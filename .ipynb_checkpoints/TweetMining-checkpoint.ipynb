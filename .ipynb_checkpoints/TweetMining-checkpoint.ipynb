{
 "cells": [
  {
   "cell_type": "code",
   "execution_count": 1,
   "metadata": {},
   "outputs": [],
   "source": [
    "cities_loc = {\n",
    "    'Mumbai': ([19.082067000000002, 72.87803199999999], 42.768239945548714),\n",
    "    'Delhi': ([28.6440355, 77.092568], 69.77043006868982), \n",
    "    'Bangalore' : ([12.971599, 77.594566], 27.2213151776324),\n",
    "    'Pune' : ([18.520430, 73.856743], 18.2016482),\n",
    "    'Kolkata' : ([22.572645, 88.363892], 14.3561833),\n",
    "    'Chennai' : ([13.082680, 80.270721], 20.6397674),\n",
    "    'Hyderabad' : ([17.3887859, 78.4610647], 25.00000)\n",
    "}"
   ]
  },
  {
   "cell_type": "code",
   "execution_count": 18,
   "metadata": {},
   "outputs": [],
   "source": [
    "from TweetByLoc import *\n",
    "from Translator import GoogleTranslate\n",
    "from tweepy.auth import OAuthHandler\n",
    "import time\n",
    "import tweepy\n",
    "import pandas as pd\n",
    "from google_trans_new import google_translator "
   ]
  },
  {
   "cell_type": "code",
   "execution_count": 19,
   "metadata": {},
   "outputs": [
    {
     "name": "stdout",
     "output_type": "stream",
     "text": [
      "Completed Mumbai, Wait for 15 mins\n",
      "Completed Delhi, Wait for 15 mins\n",
      "Completed Bangalore, Wait for 15 mins\n",
      "Completed Pune, Wait for 15 mins\n",
      "Completed Kolkata, Wait for 15 mins\n",
      "Completed Chennai, Wait for 15 mins\n",
      "Completed Hyderabad, Wait for 15 mins\n"
     ]
    }
   ],
   "source": [
    "consumer_key = 'sxMTghjwrQGcFmVLNmJJQZq2J'\n",
    "consumer_secret = 'hRy7iY3atEisTSllbNvBlTR3Ac2hh5PepxN1c8cXdNBSTbpzTJ'\n",
    "access_token = '1355109724010770435-OHMs7Y1v5ygPG2NJ9UOV0PbhD6WnVd'\n",
    "access_secret = 'wSoE9u2OMVfMZLZ0Dp7JcNxEMtlyd5VcLVcPMZ5L9Rlsx'\n",
    "translator = google_translator()\n",
    "\n",
    "df = pd.DataFrame(columns=['city', 'tweet'])\n",
    "\n",
    "for city, loc in cities_loc.items():\n",
    "    t = TweetHandler(consumer_key, consumer_secret, access_token, access_secret, city)\n",
    "    \n",
    "    lat, long = loc[0]\n",
    "    radius = loc[1]\n",
    "    \n",
    "    tweets = t.get_tweets_by_location(lat, long, radius)\n",
    "    \n",
    "#     print(tweets)\n",
    "    \n",
    "#     translation = GoogleTranslate(\"505331e6c12f182a921de81cff9808c288369c9b\")\n",
    "    translated_tweets = [translator.translate(tweet,'en') for tweet in tweets]\n",
    "    \n",
    "    new_df = pd.concat([pd.DataFrame(translated_tweets),\n",
    "                       (pd.DataFrame([city] * len(translated_tweets)))],\n",
    "                      axis = 1)\n",
    "    if df.empty:\n",
    "        df = new_df\n",
    "    else:\n",
    "        df = pd.concat([df, new_df], ignore_index = True)\n",
    "        \n",
    "    df.to_csv('live_tweets.csv', index = False)\n",
    "    \n",
    "    print(\"Completed {}, Wait for 15 mins\".format(city))\n",
    "    time.sleep(15 * 60)"
   ]
  },
  {
   "cell_type": "code",
   "execution_count": 23,
   "metadata": {},
   "outputs": [
    {
     "data": {
      "text/html": [
       "<div>\n",
       "<style scoped>\n",
       "    .dataframe tbody tr th:only-of-type {\n",
       "        vertical-align: middle;\n",
       "    }\n",
       "\n",
       "    .dataframe tbody tr th {\n",
       "        vertical-align: top;\n",
       "    }\n",
       "\n",
       "    .dataframe thead th {\n",
       "        text-align: right;\n",
       "    }\n",
       "</style>\n",
       "<table border=\"1\" class=\"dataframe\">\n",
       "  <thead>\n",
       "    <tr style=\"text-align: right;\">\n",
       "      <th></th>\n",
       "      <th>0</th>\n",
       "      <th>0</th>\n",
       "    </tr>\n",
       "  </thead>\n",
       "  <tbody>\n",
       "    <tr>\n",
       "      <th>1</th>\n",
       "      <td>Godse's bullets could only kill Mahatma Gandhi...</td>\n",
       "      <td>Mumbai</td>\n",
       "    </tr>\n",
       "  </tbody>\n",
       "</table>\n",
       "</div>"
      ],
      "text/plain": [
       "                                                   0       0\n",
       "1  Godse's bullets could only kill Mahatma Gandhi...  Mumbai"
      ]
     },
     "execution_count": 23,
     "metadata": {},
     "output_type": "execute_result"
    }
   ],
   "source": [
    "df[0][1:2]"
   ]
  },
  {
   "cell_type": "code",
   "execution_count": 17,
   "metadata": {},
   "outputs": [
    {
     "name": "stdout",
     "output_type": "stream",
     "text": [
      "Collecting google_trans_new\n",
      "  Downloading google_trans_new-1.1.9-py3-none-any.whl (9.2 kB)\n",
      "Installing collected packages: google-trans-new\n",
      "Successfully installed google-trans-new-1.1.9\n"
     ]
    }
   ],
   "source": [
    "!pip install google_trans_new"
   ]
  },
  {
   "cell_type": "code",
   "execution_count": null,
   "metadata": {},
   "outputs": [],
   "source": []
  }
 ],
 "metadata": {
  "kernelspec": {
   "display_name": "Python 3",
   "language": "python",
   "name": "python3"
  },
  "language_info": {
   "codemirror_mode": {
    "name": "ipython",
    "version": 3
   },
   "file_extension": ".py",
   "mimetype": "text/x-python",
   "name": "python",
   "nbconvert_exporter": "python",
   "pygments_lexer": "ipython3",
   "version": "3.8.5"
  }
 },
 "nbformat": 4,
 "nbformat_minor": 4
}
